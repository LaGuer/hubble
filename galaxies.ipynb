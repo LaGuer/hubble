{
 "cells": [
  {
   "cell_type": "markdown",
   "metadata": {},
   "source": [
    "# Hubbles Law"
   ]
  },
  {
   "cell_type": "markdown",
   "metadata": {},
   "source": [
    "---"
   ]
  },
  {
   "cell_type": "markdown",
   "metadata": {},
   "source": [
    "Utterslev, Copenhagen, Denmark  \n",
    "December 19th, 2018\n",
    "\n",
    "* Project by [Laura Bügel Groth](https://www.facebook.com/laura.bugelgroth)\n",
    "* Jupyter Notebooks by [Rasmus Groth](https://github.com/bliiir)\n",
    "* Inspiration from [zonination](https://www.reddit.com/r/dataisbeautiful/comments/5st2qn/i_got_a_dataset_of_4240_galaxies_and_calculated/)\n",
    "* Mentoring by [Peter Lauersen](https://www.dark-cosmology.dk/~pela/index.html)"
   ]
  },
  {
   "cell_type": "markdown",
   "metadata": {},
   "source": [
    "---"
   ]
  },
  {
   "cell_type": "markdown",
   "metadata": {},
   "source": [
    "In the following we will use Python and data from [Leda](http://leda.univ-lyon1.fr/leda/fullsql.html), the database of physics of galaxies, to verify [Hubbles law](https://en.wikipedia.org/wiki/Hubble%27s_law):"
   ]
  },
  {
   "cell_type": "markdown",
   "metadata": {},
   "source": [
    "## $v = H_0 \\times d$"
   ]
  },
  {
   "cell_type": "markdown",
   "metadata": {},
   "source": [
    "<div style=\"text-align: left\">\n",
    "    <table align=\"left\">\n",
    "        <tr>\n",
    "            <th>Symbol</th>\n",
    "            <th>Description</th>\n",
    "            <th>Units</th>\n",
    "            <th></th>\n",
    "        </tr>\n",
    "        <tr>\n",
    "            <td> $v$  </td>\n",
    "            <td> Velocity  </td>\n",
    "            <td> Km/s</td>\n",
    "            <td> Kilometer per second </td>\n",
    "        </tr>\n",
    "        <tr>\n",
    "            <td>$H$ </td>\n",
    "            <td>Hubbles constant</td>\n",
    "            <td>Km/s/Mpc</td>\n",
    "            <td>Kilometer per second per Megaparsec</td>\n",
    "        </tr>\n",
    "        <tr>\n",
    "            <td>$d$ </td>\n",
    "            <td>Distance</td>\n",
    "            <td>Mpc</td>\n",
    "            <td>Megaparsec</td>\n",
    "        </tr>\n",
    "    </table>\n",
    "</div>"
   ]
  },
  {
   "cell_type": "markdown",
   "metadata": {},
   "source": [
    "In other words, there is a linear relationship between the distance of a galaxy and it's speed relating to us - or that it follows the structure of a normal linear equation:"
   ]
  },
  {
   "cell_type": "markdown",
   "metadata": {},
   "source": [
    "# $ y = a \\times b + c $"
   ]
  },
  {
   "cell_type": "markdown",
   "metadata": {},
   "source": [
    "---"
   ]
  },
  {
   "cell_type": "markdown",
   "metadata": {},
   "source": [
    "## Import Python packages"
   ]
  },
  {
   "cell_type": "code",
   "execution_count": 1,
   "metadata": {},
   "outputs": [],
   "source": [
    "import pandas as pd\n",
    "\n",
    "import numpy as np\n",
    "from numpy import log10,sqrt\n",
    "\n",
    "import matplotlib.pyplot as plt\n",
    "\n",
    "from astropy import units as u\n",
    "from astropy.cosmology import Planck15\n",
    "import astropy.constants as cc\n",
    "\n",
    "from scipy.optimize import curve_fit"
   ]
  },
  {
   "cell_type": "markdown",
   "metadata": {},
   "source": [
    "## Aquire the data"
   ]
  },
  {
   "cell_type": "markdown",
   "metadata": {},
   "source": [
    "### Query\n",
    "The following query was passed to the [leda database interface](http://leda.univ-lyon1.fr/leda/fullsql.html):"
   ]
  },
  {
   "cell_type": "markdown",
   "metadata": {},
   "source": [
    "```\n",
    "SELECT objname, v3k, mod0 WHERE (objtype='G') AND (v3k>3000) AND (v3k<30000) AND (mod0 IS NOT NULL) AND (v3k IS NOT NULL)\n",
    "```"
   ]
  },
  {
   "cell_type": "markdown",
   "metadata": {},
   "source": [
    "<div style=\"text-align: left\">\n",
    "    <table align=\"left\">\n",
    "        <tr>\n",
    "            <th>Symbol</th>\n",
    "            <th>Type</th>\n",
    "            <th>Units</th>\n",
    "            <th>Description</th>\n",
    "        </tr>\n",
    "        <tr>\n",
    "            <td>mod0 </td>\n",
    "            <td>float</td>\n",
    "            <td>mag</td>\n",
    "            <td>Distance modulus from distance measurements</td>\n",
    "        </tr>\n",
    "        <tr>\n",
    "            <td>v3k</td>\n",
    "            <td>float</td>\n",
    "            <td>km/s</td>\n",
    "            <td>Radial velocity (cz) with respect to the CMB radiation</td>\n",
    "        </tr>\n",
    "    </table>\n",
    "</div>"
   ]
  },
  {
   "cell_type": "markdown",
   "metadata": {},
   "source": [
    "We are elliminating objects that are not galaxies, (objtype='G'), objects with very low velocities (v3k>3000) because their local velocities and rotations skew the results, objects with very high velocities (v3k<30000) because the light we are getting from them only reflects their velocities in the early universe when the accelleration was significantly different.\n",
    "\n",
    "The results were saved in a text file called, ```leda.txt``` locally and then loaded into a pandas dataframe in Python"
   ]
  },
  {
   "cell_type": "code",
   "execution_count": 2,
   "metadata": {},
   "outputs": [],
   "source": [
    "# Load Leda data\n",
    "df = pd.read_csv('leda.txt')"
   ]
  },
  {
   "cell_type": "markdown",
   "metadata": {},
   "source": [
    "## Tidy the data"
   ]
  },
  {
   "cell_type": "code",
   "execution_count": 3,
   "metadata": {},
   "outputs": [
    {
     "data": {
      "text/html": [
       "<div>\n",
       "<style scoped>\n",
       "    .dataframe tbody tr th:only-of-type {\n",
       "        vertical-align: middle;\n",
       "    }\n",
       "\n",
       "    .dataframe tbody tr th {\n",
       "        vertical-align: top;\n",
       "    }\n",
       "\n",
       "    .dataframe thead th {\n",
       "        text-align: right;\n",
       "    }\n",
       "</style>\n",
       "<table border=\"1\" class=\"dataframe\">\n",
       "  <thead>\n",
       "    <tr style=\"text-align: right;\">\n",
       "      <th></th>\n",
       "      <th>galaxy</th>\n",
       "      <th>v3k</th>\n",
       "      <th>mod0</th>\n",
       "    </tr>\n",
       "  </thead>\n",
       "  <tbody>\n",
       "    <tr>\n",
       "      <th>0</th>\n",
       "      <td>2MASXJ00024910+0045055</td>\n",
       "      <td>25649</td>\n",
       "      <td>37.28</td>\n",
       "    </tr>\n",
       "    <tr>\n",
       "      <th>1</th>\n",
       "      <td>2MASXJ01415126-0052365</td>\n",
       "      <td>27737</td>\n",
       "      <td>37.43</td>\n",
       "    </tr>\n",
       "    <tr>\n",
       "      <th>2</th>\n",
       "      <td>2MASXJ01270614+1906587</td>\n",
       "      <td>12621</td>\n",
       "      <td>36.10</td>\n",
       "    </tr>\n",
       "    <tr>\n",
       "      <th>3</th>\n",
       "      <td>2MASXJ01454460-5605518</td>\n",
       "      <td>26258</td>\n",
       "      <td>37.83</td>\n",
       "    </tr>\n",
       "    <tr>\n",
       "      <th>4</th>\n",
       "      <td>2MASXJ03372260-3302350</td>\n",
       "      <td>11603</td>\n",
       "      <td>35.73</td>\n",
       "    </tr>\n",
       "  </tbody>\n",
       "</table>\n",
       "</div>"
      ],
      "text/plain": [
       "                          galaxy    v3k   mod0\n",
       "0    2MASXJ00024910+0045055       25649  37.28\n",
       "1    2MASXJ01415126-0052365       27737  37.43\n",
       "2    2MASXJ01270614+1906587       12621  36.10\n",
       "3    2MASXJ01454460-5605518       26258  37.83\n",
       "4    2MASXJ03372260-3302350       11603  35.73"
      ]
     },
     "execution_count": 3,
     "metadata": {},
     "output_type": "execute_result"
    }
   ],
   "source": [
    "# Remove empty column at the end\n",
    "df = df.iloc[:,0:3]\n",
    "\n",
    "# Remove rows with missing values\n",
    "df = df.dropna()\n",
    "\n",
    "# Remove whitespace from the headers\n",
    "df = df.rename(columns=lambda x: x.strip())\n",
    "\n",
    "# Rename the objname column to galaxy\n",
    "df = df.rename(columns={'objname':'galaxy'})\n",
    "\n",
    "# Display a sample of the dataframe\n",
    "df.head()"
   ]
  },
  {
   "cell_type": "markdown",
   "metadata": {},
   "source": [
    "---"
   ]
  },
  {
   "cell_type": "markdown",
   "metadata": {},
   "source": [
    "## Luminosity Based Distance, $d_l$\n",
    "Convert the magnitude (```mod0```) to [Luminosity-distance](https://en.wikipedia.org/wiki/Luminosity_distance) $d_l$ in parsec:"
   ]
  },
  {
   "cell_type": "markdown",
   "metadata": {},
   "source": [
    "## $ d_l = 10^{\\frac{m-M + 5}{5}}$"
   ]
  },
  {
   "cell_type": "markdown",
   "metadata": {},
   "source": [
    "Where $ mod0 = m-M$"
   ]
  },
  {
   "cell_type": "code",
   "execution_count": 4,
   "metadata": {},
   "outputs": [
    {
     "data": {
      "text/html": [
       "<div>\n",
       "<style scoped>\n",
       "    .dataframe tbody tr th:only-of-type {\n",
       "        vertical-align: middle;\n",
       "    }\n",
       "\n",
       "    .dataframe tbody tr th {\n",
       "        vertical-align: top;\n",
       "    }\n",
       "\n",
       "    .dataframe thead th {\n",
       "        text-align: right;\n",
       "    }\n",
       "</style>\n",
       "<table border=\"1\" class=\"dataframe\">\n",
       "  <thead>\n",
       "    <tr style=\"text-align: right;\">\n",
       "      <th></th>\n",
       "      <th>galaxy</th>\n",
       "      <th>v3k</th>\n",
       "      <th>mod0</th>\n",
       "      <th>dl_mpc</th>\n",
       "    </tr>\n",
       "  </thead>\n",
       "  <tbody>\n",
       "    <tr>\n",
       "      <th>0</th>\n",
       "      <td>2MASXJ00024910+0045055</td>\n",
       "      <td>25649</td>\n",
       "      <td>37.28</td>\n",
       "      <td>285.759054</td>\n",
       "    </tr>\n",
       "    <tr>\n",
       "      <th>1</th>\n",
       "      <td>2MASXJ01415126-0052365</td>\n",
       "      <td>27737</td>\n",
       "      <td>37.43</td>\n",
       "      <td>306.196343</td>\n",
       "    </tr>\n",
       "    <tr>\n",
       "      <th>2</th>\n",
       "      <td>2MASXJ01270614+1906587</td>\n",
       "      <td>12621</td>\n",
       "      <td>36.10</td>\n",
       "      <td>165.958691</td>\n",
       "    </tr>\n",
       "    <tr>\n",
       "      <th>3</th>\n",
       "      <td>2MASXJ01454460-5605518</td>\n",
       "      <td>26258</td>\n",
       "      <td>37.83</td>\n",
       "      <td>368.128974</td>\n",
       "    </tr>\n",
       "    <tr>\n",
       "      <th>4</th>\n",
       "      <td>2MASXJ03372260-3302350</td>\n",
       "      <td>11603</td>\n",
       "      <td>35.73</td>\n",
       "      <td>139.958732</td>\n",
       "    </tr>\n",
       "  </tbody>\n",
       "</table>\n",
       "</div>"
      ],
      "text/plain": [
       "                          galaxy    v3k   mod0      dl_mpc\n",
       "0    2MASXJ00024910+0045055       25649  37.28  285.759054\n",
       "1    2MASXJ01415126-0052365       27737  37.43  306.196343\n",
       "2    2MASXJ01270614+1906587       12621  36.10  165.958691\n",
       "3    2MASXJ01454460-5605518       26258  37.83  368.128974\n",
       "4    2MASXJ03372260-3302350       11603  35.73  139.958732"
      ]
     },
     "execution_count": 4,
     "metadata": {},
     "output_type": "execute_result"
    }
   ],
   "source": [
    "df['dl_mpc'] = 10**((df['mod0']+5)/5) / 1000000\n",
    "df.head()"
   ]
  },
  {
   "cell_type": "markdown",
   "metadata": {},
   "source": [
    "## Physical Distance, $d$"
   ]
  },
  {
   "cell_type": "markdown",
   "metadata": {},
   "source": [
    "The luminosity distance does not account for redshift and time dilation caused by differences in velocity and gravitational effects as the photons travel from the source to us. \n",
    "\n",
    "To get the proper distance, we first need the redshift factor, $z$, which we get by dividing the velocity with the speed of light (cc.c):"
   ]
  },
  {
   "cell_type": "code",
   "execution_count": 5,
   "metadata": {},
   "outputs": [],
   "source": [
    "df['z'] = df['v3k'] / cc.c"
   ]
  },
  {
   "cell_type": "markdown",
   "metadata": {},
   "source": [
    "And then we divide the luminosity distance, $d_l$, with the redshift factor $1 + z$:"
   ]
  },
  {
   "cell_type": "code",
   "execution_count": 6,
   "metadata": {},
   "outputs": [],
   "source": [
    "# Calculate the proper redshift etc kompensated distance in parsec\n",
    "df['d_mpc'] = df['dl_mpc'] / (1+df['z'])"
   ]
  },
  {
   "cell_type": "code",
   "execution_count": 7,
   "metadata": {},
   "outputs": [
    {
     "data": {
      "text/html": [
       "<div>\n",
       "<style scoped>\n",
       "    .dataframe tbody tr th:only-of-type {\n",
       "        vertical-align: middle;\n",
       "    }\n",
       "\n",
       "    .dataframe tbody tr th {\n",
       "        vertical-align: top;\n",
       "    }\n",
       "\n",
       "    .dataframe thead th {\n",
       "        text-align: right;\n",
       "    }\n",
       "</style>\n",
       "<table border=\"1\" class=\"dataframe\">\n",
       "  <thead>\n",
       "    <tr style=\"text-align: right;\">\n",
       "      <th></th>\n",
       "      <th>galaxy</th>\n",
       "      <th>v3k</th>\n",
       "      <th>mod0</th>\n",
       "      <th>dl_mpc</th>\n",
       "      <th>z</th>\n",
       "      <th>d_mpc</th>\n",
       "    </tr>\n",
       "  </thead>\n",
       "  <tbody>\n",
       "    <tr>\n",
       "      <th>0</th>\n",
       "      <td>2MASXJ00024910+0045055</td>\n",
       "      <td>25649</td>\n",
       "      <td>37.28</td>\n",
       "      <td>285.759054</td>\n",
       "      <td>0.000086</td>\n",
       "      <td>285.734608</td>\n",
       "    </tr>\n",
       "    <tr>\n",
       "      <th>1</th>\n",
       "      <td>2MASXJ01415126-0052365</td>\n",
       "      <td>27737</td>\n",
       "      <td>37.43</td>\n",
       "      <td>306.196343</td>\n",
       "      <td>0.000093</td>\n",
       "      <td>306.168016</td>\n",
       "    </tr>\n",
       "    <tr>\n",
       "      <th>2</th>\n",
       "      <td>2MASXJ01270614+1906587</td>\n",
       "      <td>12621</td>\n",
       "      <td>36.10</td>\n",
       "      <td>165.958691</td>\n",
       "      <td>0.000042</td>\n",
       "      <td>165.951704</td>\n",
       "    </tr>\n",
       "    <tr>\n",
       "      <th>3</th>\n",
       "      <td>2MASXJ01454460-5605518</td>\n",
       "      <td>26258</td>\n",
       "      <td>37.83</td>\n",
       "      <td>368.128974</td>\n",
       "      <td>0.000088</td>\n",
       "      <td>368.096733</td>\n",
       "    </tr>\n",
       "    <tr>\n",
       "      <th>4</th>\n",
       "      <td>2MASXJ03372260-3302350</td>\n",
       "      <td>11603</td>\n",
       "      <td>35.73</td>\n",
       "      <td>139.958732</td>\n",
       "      <td>0.000039</td>\n",
       "      <td>139.953316</td>\n",
       "    </tr>\n",
       "  </tbody>\n",
       "</table>\n",
       "</div>"
      ],
      "text/plain": [
       "                          galaxy    v3k   mod0      dl_mpc         z  \\\n",
       "0    2MASXJ00024910+0045055       25649  37.28  285.759054  0.000086   \n",
       "1    2MASXJ01415126-0052365       27737  37.43  306.196343  0.000093   \n",
       "2    2MASXJ01270614+1906587       12621  36.10  165.958691  0.000042   \n",
       "3    2MASXJ01454460-5605518       26258  37.83  368.128974  0.000088   \n",
       "4    2MASXJ03372260-3302350       11603  35.73  139.958732  0.000039   \n",
       "\n",
       "        d_mpc  \n",
       "0  285.734608  \n",
       "1  306.168016  \n",
       "2  165.951704  \n",
       "3  368.096733  \n",
       "4  139.953316  "
      ]
     },
     "execution_count": 7,
     "metadata": {},
     "output_type": "execute_result"
    }
   ],
   "source": [
    "df.head()"
   ]
  },
  {
   "cell_type": "markdown",
   "metadata": {},
   "source": [
    "---"
   ]
  },
  {
   "cell_type": "markdown",
   "metadata": {},
   "source": [
    "## Export tidy dataset"
   ]
  },
  {
   "cell_type": "code",
   "execution_count": 8,
   "metadata": {},
   "outputs": [],
   "source": [
    "# Save to file\n",
    "df.to_csv('galaxies.csv')"
   ]
  },
  {
   "cell_type": "markdown",
   "metadata": {},
   "source": [
    "---"
   ]
  },
  {
   "cell_type": "markdown",
   "metadata": {},
   "source": [
    "## Best linear fit"
   ]
  },
  {
   "cell_type": "code",
   "execution_count": 9,
   "metadata": {},
   "outputs": [
    {
     "data": {
      "text/plain": [
       "66.59753735677145"
      ]
     },
     "execution_count": 9,
     "metadata": {},
     "output_type": "execute_result"
    }
   ],
   "source": [
    "def lin(x, a):\n",
    "    return a * x\n",
    "\n",
    "coeff, cov= curve_fit(lin, df['d_mpc'], df['v3k'])\n",
    "\n",
    "# The slope of the best linear fit \n",
    "a = coeff[0]\n",
    "a"
   ]
  },
  {
   "cell_type": "markdown",
   "metadata": {},
   "source": [
    "---"
   ]
  },
  {
   "cell_type": "markdown",
   "metadata": {},
   "source": [
    "## Age of the Universe"
   ]
  },
  {
   "cell_type": "markdown",
   "metadata": {},
   "source": [
    "### Seconds"
   ]
  },
  {
   "cell_type": "code",
   "execution_count": 10,
   "metadata": {},
   "outputs": [
    {
     "data": {
      "text/plain": [
       "4.6333208463264954e+17"
      ]
     },
     "execution_count": 10,
     "metadata": {},
     "output_type": "execute_result"
    }
   ],
   "source": [
    "# Convert a from mpc based to km based\n",
    "a_km = a / 1000000 / 30856775814913.67\n",
    "age_sec = (1/a_km)\n",
    "age_sec = age_sec\n",
    "age_sec"
   ]
  },
  {
   "cell_type": "markdown",
   "metadata": {},
   "source": [
    "### Years"
   ]
  },
  {
   "cell_type": "code",
   "execution_count": 11,
   "metadata": {},
   "outputs": [
    {
     "data": {
      "text/plain": [
       "'14,692,164,023'"
      ]
     },
     "execution_count": 11,
     "metadata": {},
     "output_type": "execute_result"
    }
   ],
   "source": [
    "# Age of the universe in years\n",
    "age_year = age_sec / (60*60*24*365)\n",
    "\"{:,}\".format(int(age_year))"
   ]
  },
  {
   "cell_type": "markdown",
   "metadata": {},
   "source": [
    "---"
   ]
  },
  {
   "cell_type": "markdown",
   "metadata": {},
   "source": [
    "## Tolerance"
   ]
  },
  {
   "cell_type": "markdown",
   "metadata": {},
   "source": [
    "#### Co-variance"
   ]
  },
  {
   "cell_type": "code",
   "execution_count": 12,
   "metadata": {},
   "outputs": [
    {
     "data": {
      "text/plain": [
       "0.20239139101111292"
      ]
     },
     "execution_count": 12,
     "metadata": {},
     "output_type": "execute_result"
    }
   ],
   "source": [
    "cov[0][0]"
   ]
  },
  {
   "cell_type": "markdown",
   "metadata": {},
   "source": [
    "### $R^2$"
   ]
  },
  {
   "cell_type": "code",
   "execution_count": 13,
   "metadata": {},
   "outputs": [
    {
     "data": {
      "text/plain": [
       "0.7590999713188041"
      ]
     },
     "execution_count": 13,
     "metadata": {},
     "output_type": "execute_result"
    }
   ],
   "source": [
    "# Residual sum of squares (ss_tot)\n",
    "residuals = df['v3k'] - lin(df['d_mpc'], coeff)\n",
    "ss_res = np.sum(residuals**2)\n",
    "\n",
    "# Total sum of squares (ss_tot)\n",
    "ss_tot = np.sum((df['v3k']-np.mean(df['v3k']))**2)\n",
    "\n",
    "# R squared\n",
    "r_squared = 1 - (ss_res / ss_tot)\n",
    "r_squared"
   ]
  },
  {
   "cell_type": "markdown",
   "metadata": {},
   "source": [
    "---"
   ]
  },
  {
   "cell_type": "markdown",
   "metadata": {},
   "source": [
    "## Plot"
   ]
  },
  {
   "cell_type": "code",
   "execution_count": 14,
   "metadata": {},
   "outputs": [],
   "source": [
    "# Store the distance in mpc in an array\n",
    "x = df['d_mpc'].values\n",
    "\n",
    "# Store the velocity in km/s in an array\n",
    "y = df['v3k'].values # v3k"
   ]
  },
  {
   "cell_type": "code",
   "execution_count": 15,
   "metadata": {},
   "outputs": [
    {
     "data": {
      "image/png": "[encoded data removed]",
      "text/plain": [
       "<Figure size 1800x1440 with 1 Axes>"
      ]
     },
     "metadata": {
      "needs_background": "light"
     },
     "output_type": "display_data"
    }
   ],
   "source": [
    "# Least Square Best Fit line\n",
    "f = lambda x: a * x\n",
    "\n",
    "# Initialize plot and subplot\n",
    "fig2 = plt.figure(figsize=(25,20))\n",
    "g2 = fig2.add_subplot(1, 1, 1)\n",
    "\n",
    "# Set background color to black\n",
    "g2.set_facecolor((0, 0, 0))\n",
    "\n",
    "# Plot dataset\n",
    "g2.scatter(df['d_mpc'], df['v3k'], c='yellow', s=5)\n",
    "\n",
    "# Plot best fit line\n",
    "g2.plot(x,f(x), c=\"white\", label=\"fit line\", linewidth=0.2)\n",
    "\n",
    "# Add labels\n",
    "g2.set_title('Speed / Distance')  \n",
    "g2.set_xlabel('Distance from Earth in mpc')  \n",
    "g2.set_ylabel('Speed relative to Earth in km/s')  \n",
    "\n",
    "# Show plot\n",
    "plt.show()"
   ]
  },
  {
   "cell_type": "code",
   "execution_count": null,
   "metadata": {},
   "outputs": [],
   "source": []
  },
  {
   "cell_type": "code",
   "execution_count": null,
   "metadata": {},
   "outputs": [],
   "source": []
  },
  {
   "cell_type": "code",
   "execution_count": null,
   "metadata": {},
   "outputs": [],
   "source": []
  },
  {
   "cell_type": "code",
   "execution_count": null,
   "metadata": {},
   "outputs": [],
   "source": []
  },
  {
   "cell_type": "code",
   "execution_count": null,
   "metadata": {},
   "outputs": [],
   "source": []
  },
  {
   "cell_type": "code",
   "execution_count": null,
   "metadata": {},
   "outputs": [],
   "source": []
  }
 ],
 "metadata": {
  "kernelspec": {
   "display_name": "Python 3",
   "language": "python",
   "name": "python3"
  },
  "language_info": {
   "codemirror_mode": {
    "name": "ipython",
    "version": 3
   },
   "file_extension": ".py",
   "mimetype": "text/x-python",
   "name": "python",
   "nbconvert_exporter": "python",
   "pygments_lexer": "ipython3",
   "version": "3.7.0"
  }
 },
 "nbformat": 4,
 "nbformat_minor": 2
}
